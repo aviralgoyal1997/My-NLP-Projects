{
 "cells": [
  {
   "cell_type": "code",
   "execution_count": 9,
   "metadata": {},
   "outputs": [
    {
     "name": "stdout",
     "output_type": "stream",
     "text": [
      "[[5. 1. 0.]\n",
      " [3. 0. 6.]]\n",
      "['car', 'book']\n",
      "1.0000000000000002\n",
      "0.9999999999999999\n"
     ]
    }
   ],
   "source": [
    "from composes.utils import io_utils\n",
    "from composes.similarity.cos import CosSimilarity\n",
    "\n",
    "#load a space\n",
    "my_space = io_utils.load(\"/home/spartan/Desktop/dissect-master/src/examples/data/out/ex01.pkl\")\n",
    "\n",
    "print my_space.cooccurrence_matrix\n",
    "print my_space.id2row\n",
    "\n",
    "#compute similarity between two words in the space \n",
    "print my_space.get_sim(\"car\", \"car\", CosSimilarity())\n",
    "print my_space.get_sim(\"book\", \"book\", CosSimilarity())"
   ]
  },
  {
   "cell_type": "code",
   "execution_count": 1,
   "metadata": {},
   "outputs": [
    {
     "name": "stdout",
     "output_type": "stream",
     "text": [
      "(u'dog', u'dog', 1.0)\n",
      "(u'dog', u'cat', 0.80168545)\n",
      "(u'dog', u'banana', 0.24327643)\n",
      "(u'cat', u'dog', 0.80168545)\n",
      "(u'cat', u'cat', 1.0)\n",
      "(u'cat', u'banana', 0.2815437)\n",
      "(u'banana', u'dog', 0.24327643)\n",
      "(u'banana', u'cat', 0.2815437)\n",
      "(u'banana', u'banana', 1.0)\n"
     ]
    }
   ],
   "source": [
    "import spacy\n",
    "\n",
    "nlp = spacy.load('en_core_web_md')  # make sure to use larger model!\n",
    "tokens = nlp(u' cat banana')\n",
    "\n",
    "for token1 in tokens:\n",
    "    for token2 in tokens:\n",
    "        print(token1.text, token2.text, token1.similarity(token2))"
   ]
  },
  {
   "cell_type": "code",
   "execution_count": 12,
   "metadata": {},
   "outputs": [
    {
     "name": "stdout",
     "output_type": "stream",
     "text": [
      "(u'sightslandmarks', u'sightslandmarks', 1.0)\n",
      "(u'sightslandmarks', u'langur', 0.0)\n",
      "(u'langur', u'sightslandmarks', 0.0)\n",
      "(u'langur', u'langur', 1.0)\n"
     ]
    }
   ],
   "source": [
    "tokens = nlp(u'sightslandmarks langur')\n",
    "for token1 in tokens:\n",
    "    for token2 in tokens:\n",
    "        print(token1.text, token2.text, token1.similarity(token2))"
   ]
  },
  {
   "cell_type": "code",
   "execution_count": null,
   "metadata": {},
   "outputs": [],
   "source": [
    "\n",
    "\n"
   ]
  }
 ],
 "metadata": {
  "kernelspec": {
   "display_name": "Python 2",
   "language": "python",
   "name": "python2"
  },
  "language_info": {
   "codemirror_mode": {
    "name": "ipython",
    "version": 2
   },
   "file_extension": ".py",
   "mimetype": "text/x-python",
   "name": "python",
   "nbconvert_exporter": "python",
   "pygments_lexer": "ipython2",
   "version": "2.7.12"
  }
 },
 "nbformat": 4,
 "nbformat_minor": 2
}
